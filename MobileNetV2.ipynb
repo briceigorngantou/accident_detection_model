{
 "cells": [
  {
   "cell_type": "code",
   "execution_count": 1,
   "id": "c78e32d3-b9e3-4761-b317-d22aea370721",
   "metadata": {},
   "outputs": [],
   "source": [
    "import os\n",
    "import shutil\n",
    "import numpy as np\n",
    "from tqdm import tqdm\n",
    "import tensorflow as tf\n",
    "import matplotlib.pyplot as plt\n",
    "from tensorflow.keras import layers\n",
    "from sklearn.model_selection import train_test_split\n",
    "from tensorflow.keras.preprocessing.image import ImageDataGenerator"
   ]
  },
  {
   "cell_type": "code",
   "execution_count": 2,
   "id": "5648ca3a-f1db-499e-9b62-538e0bff6f92",
   "metadata": {},
   "outputs": [],
   "source": [
    "# Chemins d'accès\n",
    "base_dir = './dataset/'\n",
    "src_images_dir = './dataset/images/'\n",
    "src_labels_dir = './dataset/labels/'"
   ]
  },
  {
   "cell_type": "code",
   "execution_count": 3,
   "id": "95be8d2f-d979-45e9-9c34-28bac8a3acf4",
   "metadata": {},
   "outputs": [],
   "source": [
    "# Définie les chemins de destination pour les ensembles train, validation et test\n",
    "train_dir = os.path.join(base_dir, 'train')\n",
    "val_dir = os.path.join(base_dir, 'val')\n",
    "test_dir = os.path.join(base_dir, 'test')"
   ]
  },
  {
   "cell_type": "code",
   "execution_count": 4,
   "id": "bb00a11e-28df-45bf-839a-0694fffc98ab",
   "metadata": {},
   "outputs": [],
   "source": [
    "# Crée les dossiers s'ils n'existent pas déjà\n",
    "for dir in [train_dir, val_dir, test_dir]:\n",
    "    os.makedirs(dir, exist_ok=True)\n",
    "    os.makedirs(os.path.join(dir, 'accident'), exist_ok=True)\n",
    "    os.makedirs(os.path.join(dir, 'no_accident'), exist_ok=True)"
   ]
  },
  {
   "cell_type": "code",
   "execution_count": 5,
   "id": "d84fb2fc-214a-4238-b1f8-9edbfdb09060",
   "metadata": {},
   "outputs": [],
   "source": [
    "# Obtenir une liste de toutes les images et les mélanger\n",
    "all_images = [f for f in os.listdir(src_images_dir) if f.endswith('.jpg')]\n",
    "np.random.shuffle(all_images)"
   ]
  },
  {
   "cell_type": "code",
   "execution_count": 6,
   "id": "28c93dc3-a2eb-44ae-9e9f-062aaa47b607",
   "metadata": {},
   "outputs": [
    {
     "data": {
      "text/plain": [
       "(3522, 1006)"
      ]
     },
     "execution_count": 6,
     "metadata": {},
     "output_type": "execute_result"
    }
   ],
   "source": [
    "# Répartition des données: 70% train, 20% validation, 10% test\n",
    "num_train = int(len(all_images) * 0.7)\n",
    "num_val = int(len(all_images) * 0.2)\n",
    "num_train,num_val"
   ]
  },
  {
   "cell_type": "code",
   "execution_count": 7,
   "id": "0f0790e5-949f-41ba-b6cd-fb0e58d33c53",
   "metadata": {},
   "outputs": [],
   "source": [
    "train_images = all_images[:num_train]\n",
    "val_images = all_images[num_train:num_train + num_val]\n",
    "test_images = all_images[num_train + num_val:]"
   ]
  },
  {
   "cell_type": "code",
   "execution_count": 8,
   "id": "acabb3dc-03a7-43da-ba47-876a7e5cfd85",
   "metadata": {},
   "outputs": [
    {
     "data": {
      "text/plain": [
       "(3522, 1006, 504)"
      ]
     },
     "execution_count": 8,
     "metadata": {},
     "output_type": "execute_result"
    }
   ],
   "source": [
    "len(train_images),len(val_images),len(test_images)"
   ]
  },
  {
   "cell_type": "code",
   "execution_count": 9,
   "id": "606c2582-de8c-4c03-982a-83af857e93d0",
   "metadata": {},
   "outputs": [],
   "source": [
    "# Fonction pour copier les images dans le bon dossier en fonction des labels\n",
    "def copy_images(images, dest_dir):\n",
    "    for image in tqdm(images,total=len(images)):\n",
    "        # Lire le label correspondant\n",
    "        label_file = os.path.join(src_labels_dir, image.replace('.jpg', '.txt'))\n",
    "        with open(label_file, 'r') as f:\n",
    "            label = f.read().strip()\n",
    "        # Déterminez la classe en fonction du contenu du label\n",
    "        class_dir = 'accident' if label != '' else 'no_accident'\n",
    "        # Copiez l'image dans le dossier correspondant\n",
    "        shutil.copy(os.path.join(src_images_dir, image), os.path.join(dest_dir, class_dir, image))"
   ]
  },
  {
   "cell_type": "code",
   "execution_count": 10,
   "id": "2164515e-97c9-47a9-ae67-0e2904b45c8c",
   "metadata": {},
   "outputs": [
    {
     "name": "stderr",
     "output_type": "stream",
     "text": [
      "100%|█████████████████████████████████████████████████████████████████████████████| 3522/3522 [00:24<00:00, 146.67it/s]\n",
      "100%|█████████████████████████████████████████████████████████████████████████████| 1006/1006 [00:06<00:00, 157.93it/s]\n",
      "100%|███████████████████████████████████████████████████████████████████████████████| 504/504 [00:03<00:00, 164.10it/s]\n"
     ]
    }
   ],
   "source": [
    "# Copie des images dans les dossiers appropriés\n",
    "copy_images(train_images, train_dir)\n",
    "copy_images(val_images, val_dir)\n",
    "copy_images(test_images, test_dir)"
   ]
  },
  {
   "cell_type": "code",
   "execution_count": 11,
   "id": "0992a7ce-7063-47a0-a2c9-55b273feef3b",
   "metadata": {},
   "outputs": [],
   "source": [
    "# Paramètres de base pour le chargement des images\n",
    "img_height, img_width = 224, 224 \n",
    "batch_size = 32  "
   ]
  },
  {
   "cell_type": "code",
   "execution_count": 26,
   "id": "6a6dec23-da9a-4d7d-be35-d8ba93259801",
   "metadata": {},
   "outputs": [
    {
     "name": "stdout",
     "output_type": "stream",
     "text": [
      "Found 5011 files belonging to 2 classes.\n",
      "Found 3844 files belonging to 2 classes.\n",
      "Found 2677 files belonging to 2 classes.\n"
     ]
    }
   ],
   "source": [
    "# Preparation des ensembles de données d'entrainement, de test et de validation\n",
    "training_ds = tf.keras.preprocessing.image_dataset_from_directory(\n",
    "    train_dir,\n",
    "    seed=101,\n",
    "    image_size=(img_height, img_width),\n",
    "    batch_size=batch_size\n",
    ")\n",
    "\n",
    "validation_ds = tf.keras.preprocessing.image_dataset_from_directory(\n",
    "    val_dir,\n",
    "    seed=101,\n",
    "    image_size=(img_height, img_width),\n",
    "    batch_size=batch_size\n",
    ")\n",
    "\n",
    "testing_ds = tf.keras.preprocessing.image_dataset_from_directory(\n",
    "    test_dir,\n",
    "    seed=101,\n",
    "    image_size=(img_height, img_width),\n",
    "    batch_size=batch_size\n",
    ")"
   ]
  },
  {
   "cell_type": "code",
   "execution_count": 13,
   "id": "ede8e6bc-0b75-4c13-ad30-01070622b5c0",
   "metadata": {},
   "outputs": [
    {
     "name": "stdout",
     "output_type": "stream",
     "text": [
      "Classes found: ['accident', 'no_accident']\n"
     ]
    }
   ],
   "source": [
    "# Vérification des Noms des Classes\n",
    "class_names = training_ds.class_names\n",
    "print(\"Classes found:\", class_names)"
   ]
  },
  {
   "cell_type": "code",
   "execution_count": 14,
   "id": "271e65a5-7f13-4968-bc6a-6936d074f896",
   "metadata": {},
   "outputs": [],
   "source": [
    "AUTOTUNE = tf.data.experimental.AUTOTUNE\n",
    "training_ds = training_ds.cache().shuffle(1000).prefetch(buffer_size=AUTOTUNE)\n",
    "validation_ds = validation_ds.cache().prefetch(buffer_size=AUTOTUNE)\n",
    "testing_ds = testing_ds.cache().prefetch(buffer_size=AUTOTUNE)"
   ]
  },
  {
   "cell_type": "code",
   "execution_count": 15,
   "id": "946b3d82-15cc-4d5c-baa7-c2effa97c058",
   "metadata": {},
   "outputs": [],
   "source": [
    "img_shape = (img_height, img_width, 3)\n",
    "\n",
    "base_model = tf.keras.applications.MobileNetV2(input_shape=img_shape,\n",
    "                                               include_top=False,\n",
    "                                               weights='imagenet')\n",
    "\n",
    "base_model.trainable = False"
   ]
  },
  {
   "cell_type": "code",
   "execution_count": 25,
   "id": "752fe932-5770-4b78-8eee-826c406ef294",
   "metadata": {},
   "outputs": [],
   "source": [
    "# Creation du modele"
   ]
  },
  {
   "cell_type": "code",
   "execution_count": 16,
   "id": "74a1c453-5181-43a0-94c2-7b28ba436b55",
   "metadata": {},
   "outputs": [],
   "source": [
    "model = tf.keras.Sequential([\n",
    "    base_model,\n",
    "    layers.Conv2D(32, 3, activation='relu'),\n",
    "    layers.Conv2D(64, 3, activation='relu'),\n",
    "    layers.Conv2D(128, 3, activation='relu'),\n",
    "    layers.Flatten(),\n",
    "    layers.Dense(len(class_names), activation= 'softmax')\n",
    "])"
   ]
  },
  {
   "cell_type": "code",
   "execution_count": 17,
   "id": "5ccd60d7-106f-4f52-b58c-261fb8dab054",
   "metadata": {},
   "outputs": [],
   "source": [
    "model.compile(optimizer='adam',loss='sparse_categorical_crossentropy', metrics=['accuracy'])"
   ]
  },
  {
   "cell_type": "code",
   "execution_count": 18,
   "id": "5da29ad5-ad8c-43ac-91fd-fa34b31579b8",
   "metadata": {},
   "outputs": [
    {
     "data": {
      "text/html": [
       "<pre style=\"white-space:pre;overflow-x:auto;line-height:normal;font-family:Menlo,'DejaVu Sans Mono',consolas,'Courier New',monospace\"><span style=\"font-weight: bold\">Model: \"sequential\"</span>\n",
       "</pre>\n"
      ],
      "text/plain": [
       "\u001b[1mModel: \"sequential\"\u001b[0m\n"
      ]
     },
     "metadata": {},
     "output_type": "display_data"
    },
    {
     "data": {
      "text/html": [
       "<pre style=\"white-space:pre;overflow-x:auto;line-height:normal;font-family:Menlo,'DejaVu Sans Mono',consolas,'Courier New',monospace\">┏━━━━━━━━━━━━━━━━━━━━━━━━━━━━━━━━━━━━━━┳━━━━━━━━━━━━━━━━━━━━━━━━━━━━━┳━━━━━━━━━━━━━━━━━┓\n",
       "┃<span style=\"font-weight: bold\"> Layer (type)                         </span>┃<span style=\"font-weight: bold\"> Output Shape                </span>┃<span style=\"font-weight: bold\">         Param # </span>┃\n",
       "┡━━━━━━━━━━━━━━━━━━━━━━━━━━━━━━━━━━━━━━╇━━━━━━━━━━━━━━━━━━━━━━━━━━━━━╇━━━━━━━━━━━━━━━━━┩\n",
       "│ mobilenetv2_1.00_224 (<span style=\"color: #0087ff; text-decoration-color: #0087ff\">Functional</span>)    │ ?                           │       <span style=\"color: #00af00; text-decoration-color: #00af00\">2,257,984</span> │\n",
       "├──────────────────────────────────────┼─────────────────────────────┼─────────────────┤\n",
       "│ conv2d (<span style=\"color: #0087ff; text-decoration-color: #0087ff\">Conv2D</span>)                      │ ?                           │     <span style=\"color: #00af00; text-decoration-color: #00af00\">0</span> (unbuilt) │\n",
       "├──────────────────────────────────────┼─────────────────────────────┼─────────────────┤\n",
       "│ conv2d_1 (<span style=\"color: #0087ff; text-decoration-color: #0087ff\">Conv2D</span>)                    │ ?                           │     <span style=\"color: #00af00; text-decoration-color: #00af00\">0</span> (unbuilt) │\n",
       "├──────────────────────────────────────┼─────────────────────────────┼─────────────────┤\n",
       "│ conv2d_2 (<span style=\"color: #0087ff; text-decoration-color: #0087ff\">Conv2D</span>)                    │ ?                           │     <span style=\"color: #00af00; text-decoration-color: #00af00\">0</span> (unbuilt) │\n",
       "├──────────────────────────────────────┼─────────────────────────────┼─────────────────┤\n",
       "│ flatten (<span style=\"color: #0087ff; text-decoration-color: #0087ff\">Flatten</span>)                    │ ?                           │     <span style=\"color: #00af00; text-decoration-color: #00af00\">0</span> (unbuilt) │\n",
       "├──────────────────────────────────────┼─────────────────────────────┼─────────────────┤\n",
       "│ dense (<span style=\"color: #0087ff; text-decoration-color: #0087ff\">Dense</span>)                        │ ?                           │     <span style=\"color: #00af00; text-decoration-color: #00af00\">0</span> (unbuilt) │\n",
       "└──────────────────────────────────────┴─────────────────────────────┴─────────────────┘\n",
       "</pre>\n"
      ],
      "text/plain": [
       "┏━━━━━━━━━━━━━━━━━━━━━━━━━━━━━━━━━━━━━━┳━━━━━━━━━━━━━━━━━━━━━━━━━━━━━┳━━━━━━━━━━━━━━━━━┓\n",
       "┃\u001b[1m \u001b[0m\u001b[1mLayer (type)                        \u001b[0m\u001b[1m \u001b[0m┃\u001b[1m \u001b[0m\u001b[1mOutput Shape               \u001b[0m\u001b[1m \u001b[0m┃\u001b[1m \u001b[0m\u001b[1m        Param #\u001b[0m\u001b[1m \u001b[0m┃\n",
       "┡━━━━━━━━━━━━━━━━━━━━━━━━━━━━━━━━━━━━━━╇━━━━━━━━━━━━━━━━━━━━━━━━━━━━━╇━━━━━━━━━━━━━━━━━┩\n",
       "│ mobilenetv2_1.00_224 (\u001b[38;5;33mFunctional\u001b[0m)    │ ?                           │       \u001b[38;5;34m2,257,984\u001b[0m │\n",
       "├──────────────────────────────────────┼─────────────────────────────┼─────────────────┤\n",
       "│ conv2d (\u001b[38;5;33mConv2D\u001b[0m)                      │ ?                           │     \u001b[38;5;34m0\u001b[0m (unbuilt) │\n",
       "├──────────────────────────────────────┼─────────────────────────────┼─────────────────┤\n",
       "│ conv2d_1 (\u001b[38;5;33mConv2D\u001b[0m)                    │ ?                           │     \u001b[38;5;34m0\u001b[0m (unbuilt) │\n",
       "├──────────────────────────────────────┼─────────────────────────────┼─────────────────┤\n",
       "│ conv2d_2 (\u001b[38;5;33mConv2D\u001b[0m)                    │ ?                           │     \u001b[38;5;34m0\u001b[0m (unbuilt) │\n",
       "├──────────────────────────────────────┼─────────────────────────────┼─────────────────┤\n",
       "│ flatten (\u001b[38;5;33mFlatten\u001b[0m)                    │ ?                           │     \u001b[38;5;34m0\u001b[0m (unbuilt) │\n",
       "├──────────────────────────────────────┼─────────────────────────────┼─────────────────┤\n",
       "│ dense (\u001b[38;5;33mDense\u001b[0m)                        │ ?                           │     \u001b[38;5;34m0\u001b[0m (unbuilt) │\n",
       "└──────────────────────────────────────┴─────────────────────────────┴─────────────────┘\n"
      ]
     },
     "metadata": {},
     "output_type": "display_data"
    },
    {
     "data": {
      "text/html": [
       "<pre style=\"white-space:pre;overflow-x:auto;line-height:normal;font-family:Menlo,'DejaVu Sans Mono',consolas,'Courier New',monospace\"><span style=\"font-weight: bold\"> Total params: </span><span style=\"color: #00af00; text-decoration-color: #00af00\">2,257,984</span> (8.61 MB)\n",
       "</pre>\n"
      ],
      "text/plain": [
       "\u001b[1m Total params: \u001b[0m\u001b[38;5;34m2,257,984\u001b[0m (8.61 MB)\n"
      ]
     },
     "metadata": {},
     "output_type": "display_data"
    },
    {
     "data": {
      "text/html": [
       "<pre style=\"white-space:pre;overflow-x:auto;line-height:normal;font-family:Menlo,'DejaVu Sans Mono',consolas,'Courier New',monospace\"><span style=\"font-weight: bold\"> Trainable params: </span><span style=\"color: #00af00; text-decoration-color: #00af00\">0</span> (0.00 B)\n",
       "</pre>\n"
      ],
      "text/plain": [
       "\u001b[1m Trainable params: \u001b[0m\u001b[38;5;34m0\u001b[0m (0.00 B)\n"
      ]
     },
     "metadata": {},
     "output_type": "display_data"
    },
    {
     "data": {
      "text/html": [
       "<pre style=\"white-space:pre;overflow-x:auto;line-height:normal;font-family:Menlo,'DejaVu Sans Mono',consolas,'Courier New',monospace\"><span style=\"font-weight: bold\"> Non-trainable params: </span><span style=\"color: #00af00; text-decoration-color: #00af00\">2,257,984</span> (8.61 MB)\n",
       "</pre>\n"
      ],
      "text/plain": [
       "\u001b[1m Non-trainable params: \u001b[0m\u001b[38;5;34m2,257,984\u001b[0m (8.61 MB)\n"
      ]
     },
     "metadata": {},
     "output_type": "display_data"
    }
   ],
   "source": [
    "model.summary()"
   ]
  },
  {
   "cell_type": "code",
   "execution_count": 19,
   "id": "662391ff-26fc-4d54-b261-66093f989b8a",
   "metadata": {},
   "outputs": [
    {
     "name": "stdout",
     "output_type": "stream",
     "text": [
      "Epoch 1/5\n",
      "\u001b[1m157/157\u001b[0m \u001b[32m━━━━━━━━━━━━━━━━━━━━\u001b[0m\u001b[37m\u001b[0m \u001b[1m391s\u001b[0m 2s/step - accuracy: 0.5863 - loss: 0.7149 - val_accuracy: 0.6990 - val_loss: 0.5741\n",
      "Epoch 2/5\n",
      "\u001b[1m157/157\u001b[0m \u001b[32m━━━━━━━━━━━━━━━━━━━━\u001b[0m\u001b[37m\u001b[0m \u001b[1m320s\u001b[0m 2s/step - accuracy: 0.7162 - loss: 0.5453 - val_accuracy: 0.7750 - val_loss: 0.4458\n",
      "Epoch 3/5\n",
      "\u001b[1m157/157\u001b[0m \u001b[32m━━━━━━━━━━━━━━━━━━━━\u001b[0m\u001b[37m\u001b[0m \u001b[1m320s\u001b[0m 2s/step - accuracy: 0.7940 - loss: 0.4327 - val_accuracy: 0.8520 - val_loss: 0.3707\n",
      "Epoch 4/5\n",
      "\u001b[1m157/157\u001b[0m \u001b[32m━━━━━━━━━━━━━━━━━━━━\u001b[0m\u001b[37m\u001b[0m \u001b[1m333s\u001b[0m 2s/step - accuracy: 0.8338 - loss: 0.3608 - val_accuracy: 0.8879 - val_loss: 0.2772\n",
      "Epoch 5/5\n",
      "\u001b[1m157/157\u001b[0m \u001b[32m━━━━━━━━━━━━━━━━━━━━\u001b[0m\u001b[37m\u001b[0m \u001b[1m335s\u001b[0m 2s/step - accuracy: 0.8800 - loss: 0.2871 - val_accuracy: 0.9246 - val_loss: 0.1966\n"
     ]
    }
   ],
   "source": [
    "history = model.fit(training_ds, validation_data = validation_ds, epochs = 5)"
   ]
  },
  {
   "cell_type": "code",
   "execution_count": 20,
   "id": "7a09322d-4bfe-42ab-a5b7-1bccf3cdc0bb",
   "metadata": {},
   "outputs": [
    {
     "data": {
      "text/plain": [
       "<matplotlib.legend.Legend at 0x1cc4bdd93d0>"
      ]
     },
     "execution_count": 20,
     "metadata": {},
     "output_type": "execute_result"
    },
    {
     "data": {
      "image/png": "[encoded data removed]",
      "text/plain": [
       "<Figure size 640x480 with 1 Axes>"
      ]
     },
     "metadata": {},
     "output_type": "display_data"
    }
   ],
   "source": [
    "plt.plot(history.history['loss'], label = 'training loss')\n",
    "plt.plot(history.history['accuracy'], label = 'training accuracy')\n",
    "plt.grid(True)\n",
    "plt.legend()"
   ]
  },
  {
   "cell_type": "code",
   "execution_count": 21,
   "id": "2f2291b0-8a56-4abe-b019-987d996bbbb9",
   "metadata": {},
   "outputs": [
    {
     "data": {
      "text/plain": [
       "<matplotlib.legend.Legend at 0x1cc4bf8bfd0>"
      ]
     },
     "execution_count": 21,
     "metadata": {},
     "output_type": "execute_result"
    },
    {
     "data": {
      "image/png": "[encoded data removed]",
      "text/plain": [
       "<Figure size 640x480 with 1 Axes>"
      ]
     },
     "metadata": {},
     "output_type": "display_data"
    }
   ],
   "source": [
    "plt.plot(history.history['val_loss'], label = 'validation loss')\n",
    "plt.plot(history.history['val_accuracy'], label = 'validation accuracy')\n",
    "plt.grid(True)\n",
    "plt.legend()"
   ]
  },
  {
   "cell_type": "code",
   "execution_count": 22,
   "id": "5e4f0ec9-b6d3-40cd-b054-6cea3697819f",
   "metadata": {},
   "outputs": [
    {
     "name": "stdout",
     "output_type": "stream",
     "text": [
      "['accident', 'no_accident']\n"
     ]
    }
   ],
   "source": [
    "print(class_names)"
   ]
  },
  {
   "cell_type": "code",
   "execution_count": 23,
   "id": "705ea77f-af78-4d4e-ba60-3eb71591dd77",
   "metadata": {},
   "outputs": [],
   "source": [
    "def predict_frame(img):\n",
    "    img_array = tf.keras.utils.img_to_array(img)\n",
    "    img_batch = np.expand_dims(img_array, axis=0)\n",
    "    prediction=(model.predict(img_batch) > 0.5).astype(\"int32\")\n",
    "    if(prediction[0][0]==0):\n",
    "        return(\"Accident Detected\")\n",
    "    else:\n",
    "        return(\"No Accident\")\n",
    "    "
   ]
  },
  {
   "cell_type": "code",
   "execution_count": 24,
   "id": "234248f3-4d15-4fce-9769-60cc78c48c6f",
   "metadata": {},
   "outputs": [],
   "source": [
    "del model"
   ]
  },
  {
   "cell_type": "code",
   "execution_count": null,
   "id": "df4bff66-d77a-4018-a6ab-485fcb03ceee",
   "metadata": {},
   "outputs": [],
   "source": []
  }
 ],
 "metadata": {
  "kernelspec": {
   "display_name": "Python 3 (ipykernel)",
   "language": "python",
   "name": "python3"
  },
  "language_info": {
   "codemirror_mode": {
    "name": "ipython",
    "version": 3
   },
   "file_extension": ".py",
   "mimetype": "text/x-python",
   "name": "python",
   "nbconvert_exporter": "python",
   "pygments_lexer": "ipython3",
   "version": "3.11.7"
  }
 },
 "nbformat": 4,
 "nbformat_minor": 5
}
