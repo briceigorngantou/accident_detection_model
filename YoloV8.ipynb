{
 "cells": [
  {
   "cell_type": "code",
   "execution_count": null,
   "id": "ed300a4b-165d-4604-aa93-18f0dcb9f85c",
   "metadata": {},
   "outputs": [],
   "source": [
    "!pip install torch torchvision\n",
    "!pip install yolov8"
   ]
  },
  {
   "cell_type": "code",
   "execution_count": null,
   "id": "972ad35d-a58b-4170-92d8-dae4474c94b6",
   "metadata": {},
   "outputs": [],
   "source": [
    "import os\n",
    "import cv2\n",
    "import numpy as np\n",
    "import matplotlib.pyplot as plt\n",
    "import pandas as pd\n",
    "from tqdm import tqdm\n",
    "from skimage.feature import hog\n",
    "from skimage.io import imread\n",
    "from skimage.transform import resize"
   ]
  },
  {
   "cell_type": "code",
   "execution_count": null,
   "id": "e8ae39c5-59f3-484e-832e-b83d4710ed34",
   "metadata": {},
   "outputs": [],
   "source": [
    "# Chargement des images depuis un dossier\n",
    "image_folder = \"./dataset/images/\"\n",
    "images = os.listdir(image_folder)\n",
    "images = [os.path.join(image_folder, img) for img in images]\n",
    "images[30]"
   ]
  },
  {
   "cell_type": "code",
   "execution_count": null,
   "id": "ce3ba47d-8a67-4be4-83c5-6bbc0747f96e",
   "metadata": {},
   "outputs": [],
   "source": [
    "# Chargement des labels depuis un dossier\n",
    "labels_folder = \"./dataset/labels/\"\n",
    "labels = os.listdir(labels_folder)\n",
    "labels = [os.path.join(labels_folder, label) for label in labels]\n",
    "labels[30]"
   ]
  },
  {
   "cell_type": "code",
   "execution_count": null,
   "id": "85bdf702-def4-4522-adf3-5098d784de74",
   "metadata": {},
   "outputs": [],
   "source": []
  },
  {
   "cell_type": "code",
   "execution_count": null,
   "id": "dc46b764-4a1b-4433-a2a1-65d69d49b399",
   "metadata": {},
   "outputs": [],
   "source": []
  },
  {
   "cell_type": "code",
   "execution_count": null,
   "id": "a80fbde1-aafe-4d28-bfc5-7e8ed317c7de",
   "metadata": {},
   "outputs": [],
   "source": []
  },
  {
   "cell_type": "code",
   "execution_count": null,
   "id": "ae0bf4cb-b5e8-4aac-9684-9e0560a65583",
   "metadata": {},
   "outputs": [],
   "source": []
  }
 ],
 "metadata": {
  "kernelspec": {
   "display_name": "Python 3 (ipykernel)",
   "language": "python",
   "name": "python3"
  },
  "language_info": {
   "codemirror_mode": {
    "name": "ipython",
    "version": 3
   },
   "file_extension": ".py",
   "mimetype": "text/x-python",
   "name": "python",
   "nbconvert_exporter": "python",
   "pygments_lexer": "ipython3",
   "version": "3.11.7"
  }
 },
 "nbformat": 4,
 "nbformat_minor": 5
}
