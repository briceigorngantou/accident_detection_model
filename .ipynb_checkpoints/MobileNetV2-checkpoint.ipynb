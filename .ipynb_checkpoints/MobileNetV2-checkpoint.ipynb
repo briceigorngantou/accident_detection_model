{
 "cells": [
  {
   "cell_type": "code",
   "execution_count": 1,
   "id": "9b2df2ca-2b7f-402e-9c40-6cbb15cd9caf",
   "metadata": {},
   "outputs": [
    {
     "name": "stdout",
     "output_type": "stream",
     "text": [
      "Requirement already satisfied: requests in c:\\users\\brice\\anaconda3\\lib\\site-packages (2.31.0)\n",
      "Requirement already satisfied: beautifulsoup4 in c:\\users\\brice\\anaconda3\\lib\\site-packages (4.12.2)\n",
      "Requirement already satisfied: charset-normalizer<4,>=2 in c:\\users\\brice\\anaconda3\\lib\\site-packages (from requests) (2.0.4)\n",
      "Requirement already satisfied: idna<4,>=2.5 in c:\\users\\brice\\anaconda3\\lib\\site-packages (from requests) (3.4)\n",
      "Requirement already satisfied: urllib3<3,>=1.21.1 in c:\\users\\brice\\anaconda3\\lib\\site-packages (from requests) (2.0.7)\n",
      "Requirement already satisfied: certifi>=2017.4.17 in c:\\users\\brice\\anaconda3\\lib\\site-packages (from requests) (2024.2.2)\n",
      "Requirement already satisfied: soupsieve>1.2 in c:\\users\\brice\\anaconda3\\lib\\site-packages (from beautifulsoup4) (2.5)\n",
      "Note: you may need to restart the kernel to use updated packages.\n"
     ]
    }
   ],
   "source": [
    "pip install requests beautifulsoup4"
   ]
  },
  {
   "cell_type": "code",
   "execution_count": 5,
   "id": "c78e32d3-b9e3-4761-b317-d22aea370721",
   "metadata": {},
   "outputs": [],
   "source": [
    "import requests\n",
    "from bs4 import BeautifulSoup\n",
    "\n",
    "def scrape_site(url):\n",
    "    # Envoyer une requête HTTP au site\n",
    "    response = requests.get(url)\n",
    "    \n",
    "    # Vérifier que la requête a réussi\n",
    "    if response.status_code != 200:\n",
    "        print(\"Erreur lors de la récupération de la page\")\n",
    "        return\n",
    "    \n",
    "    # Créer un objet BeautifulSoup pour analyser la page récupérée\n",
    "    soup = BeautifulSoup(response.text, 'html.parser')\n",
    "    \n",
    "    # Trouver tous les éléments souhaités, ici par exemple des titres d'article\n",
    "    articles = soup.find_all('find_all')  # Remplacer 'h2' par le bon tag ou la bonne classe suivant le site\n",
    "    \n",
    "    # Extraire et afficher le texte de chaque titre trouvé\n",
    "    for article in articles:\n",
    "        print(article.get_text())\n",
    "\n",
    "# URL du site à scraper, à remplacer par l'URL réelle du site que vous souhaitez scraper\n",
    "url = 'https://www.legaseriea.it/en/serie-a/classifica'\n",
    "scrape_site(url)"
   ]
  },
  {
   "cell_type": "code",
   "execution_count": null,
   "id": "74a1c453-5181-43a0-94c2-7b28ba436b55",
   "metadata": {},
   "outputs": [],
   "source": []
  }
 ],
 "metadata": {
  "kernelspec": {
   "display_name": "Python 3 (ipykernel)",
   "language": "python",
   "name": "python3"
  },
  "language_info": {
   "codemirror_mode": {
    "name": "ipython",
    "version": 3
   },
   "file_extension": ".py",
   "mimetype": "text/x-python",
   "name": "python",
   "nbconvert_exporter": "python",
   "pygments_lexer": "ipython3",
   "version": "3.11.7"
  }
 },
 "nbformat": 4,
 "nbformat_minor": 5
}
