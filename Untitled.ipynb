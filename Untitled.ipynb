{
 "cells": [
  {
   "cell_type": "code",
   "execution_count": 2,
   "id": "e01afc25-8e96-40c0-8368-c7772f811be9",
   "metadata": {},
   "outputs": [
    {
     "name": "stdout",
     "output_type": "stream",
     "text": [
      "<!DOCTYPE html>\n",
      "<html lang=\"en\">\n",
      " <head>\n",
      "  <link href=\"https://assets.laliga.com/assets/sprites/shield-sprite.css?20230928063313035666\" rel=\"stylesheet\"/>\n",
      "  <link href=\"https://assets.laliga.com/assets/public/fonts/fonts.css?20240405100000\" rel=\"stylesheet\"/>\n",
      "  <link crossorigin=\"anonymous\" href=\"https://apim.laliga.com/public-service\" rel=\"preconnect\"/>\n",
      "  <meta content=\"app-id=968915185\" name=\"apple-itunes-app\"/>\n",
      "  <link href=\"https://assets.laliga.com/assets/public/logos/favicon.ico\" rel=\"icon\n",
      "Standings table not found.\n"
     ]
    }
   ],
   "source": [
    "import requests\n",
    "from bs4 import BeautifulSoup\n",
    "import pandas as pd\n",
    "\n",
    "# URL du site officiel de La Liga\n",
    "url = 'https://www.laliga.com/en-GB/laliga-santander/standing'\n",
    "\n",
    "# Envoyer une requête GET au site web\n",
    "response = requests.get(url)\n",
    "\n",
    "# Vérifier si la requête a réussi\n",
    "if response.status_code == 200:\n",
    "    # Parser le contenu HTML de la page\n",
    "    soup = BeautifulSoup(response.content, 'html.parser')\n",
    "    \n",
    "    # Afficher les 500 premiers caractères pour comprendre la structure\n",
    "    print(soup.prettify()[:500])\n",
    "\n",
    "    # Essayer de trouver le tableau de classement en utilisant le sélecteur approprié\n",
    "    # Cela peut nécessiter d'examiner la sortie ci-dessus pour déterminer le bon sélecteur\n",
    "    standings_table = soup.find('table', {'class': 'standings-table'})\n",
    "    \n",
    "    # Vérifier si standings_table est trouvé\n",
    "    if standings_table:\n",
    "        # Extraire les données de chaque ligne de la table\n",
    "        teams = []\n",
    "        for row in standings_table.find_all('tr')[1:]:  # Skip the header row\n",
    "            cols = row.find_all('td')\n",
    "            team_data = {\n",
    "                'Position': cols[0].text.strip(),\n",
    "                'Team': cols[1].text.strip(),\n",
    "                'Points': cols[2].text.strip(),\n",
    "                'Played': cols[3].text.strip(),\n",
    "                'Won': cols[4].text.strip(),\n",
    "                'Drawn': cols[5].text.strip(),\n",
    "                'Lost': cols[6].text.strip(),\n",
    "                'Goals_For': cols[7].text.strip(),\n",
    "                'Goals_Against': cols[8].text.strip(),\n",
    "                'Goal_Difference': cols[9].text.strip(),\n",
    "            }\n",
    "            teams.append(team_data)\n",
    "\n",
    "        # Créer un dataframe pandas à partir de la liste de dictionnaires\n",
    "        df = pd.DataFrame(teams)\n",
    "\n",
    "        # Afficher le dataframe\n",
    "        print(df)\n",
    "    else:\n",
    "        print(\"Standings table not found.\")\n",
    "else:\n",
    "    print(f\"Failed to retrieve the page. Status code: {response.status_code}\")\n"
   ]
  },
  {
   "cell_type": "code",
   "execution_count": null,
   "id": "c4b9b378-ad88-4382-9761-dce85e4f5a34",
   "metadata": {},
   "outputs": [],
   "source": []
  }
 ],
 "metadata": {
  "kernelspec": {
   "display_name": "Python 3 (ipykernel)",
   "language": "python",
   "name": "python3"
  },
  "language_info": {
   "codemirror_mode": {
    "name": "ipython",
    "version": 3
   },
   "file_extension": ".py",
   "mimetype": "text/x-python",
   "name": "python",
   "nbconvert_exporter": "python",
   "pygments_lexer": "ipython3",
   "version": "3.11.7"
  }
 },
 "nbformat": 4,
 "nbformat_minor": 5
}
